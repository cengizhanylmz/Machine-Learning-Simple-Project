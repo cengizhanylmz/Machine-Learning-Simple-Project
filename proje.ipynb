{
 "cells": [
  {
   "cell_type": "code",
   "execution_count": 650,
   "metadata": {},
   "outputs": [],
   "source": [
    "import numpy as np\n",
    "import pandas as pd\n",
    "from sklearn.linear_model import Ridge\n",
    "from sklearn.metrics import mean_squared_error,r2_score\n",
    "from sklearn import model_selection\n",
    "from sklearn.linear_model import RidgeCV\n",
    "from sklearn.model_selection import cross_val_score"
   ]
  },
  {
   "cell_type": "code",
   "execution_count": 651,
   "metadata": {},
   "outputs": [],
   "source": [
    "veri=pd.read_excel(\"veri.xlsx\")\n",
    "df=veri.copy()\n",
    "test=pd.read_excel(\"id.xlsx\")\n",
    "test1= test.drop(['id'], axis=1)"
   ]
  },
  {
   "cell_type": "code",
   "execution_count": 652,
   "metadata": {},
   "outputs": [
    {
     "data": {
      "text/html": [
       "<div>\n",
       "<style scoped>\n",
       "    .dataframe tbody tr th:only-of-type {\n",
       "        vertical-align: middle;\n",
       "    }\n",
       "\n",
       "    .dataframe tbody tr th {\n",
       "        vertical-align: top;\n",
       "    }\n",
       "\n",
       "    .dataframe thead th {\n",
       "        text-align: right;\n",
       "    }\n",
       "</style>\n",
       "<table border=\"1\" class=\"dataframe\">\n",
       "  <thead>\n",
       "    <tr style=\"text-align: right;\">\n",
       "      <th></th>\n",
       "      <th>customer</th>\n",
       "      <th>item</th>\n",
       "      <th>date</th>\n",
       "    </tr>\n",
       "  </thead>\n",
       "  <tbody>\n",
       "    <tr>\n",
       "      <th>0</th>\n",
       "      <td>A</td>\n",
       "      <td>0</td>\n",
       "      <td>2020-10</td>\n",
       "    </tr>\n",
       "    <tr>\n",
       "      <th>1</th>\n",
       "      <td>A</td>\n",
       "      <td>0</td>\n",
       "      <td>2020-11</td>\n",
       "    </tr>\n",
       "    <tr>\n",
       "      <th>2</th>\n",
       "      <td>A</td>\n",
       "      <td>0</td>\n",
       "      <td>2020-12</td>\n",
       "    </tr>\n",
       "    <tr>\n",
       "      <th>3</th>\n",
       "      <td>A</td>\n",
       "      <td>0</td>\n",
       "      <td>2020-8</td>\n",
       "    </tr>\n",
       "    <tr>\n",
       "      <th>4</th>\n",
       "      <td>A</td>\n",
       "      <td>0</td>\n",
       "      <td>2020-9</td>\n",
       "    </tr>\n",
       "  </tbody>\n",
       "</table>\n",
       "</div>"
      ],
      "text/plain": [
       "  customer  item     date\n",
       "0        A     0  2020-10\n",
       "1        A     0  2020-11\n",
       "2        A     0  2020-12\n",
       "3        A     0   2020-8\n",
       "4        A     0   2020-9"
      ]
     },
     "execution_count": 652,
     "metadata": {},
     "output_type": "execute_result"
    }
   ],
   "source": [
    "test1.head()"
   ]
  },
  {
   "cell_type": "code",
   "execution_count": 653,
   "metadata": {},
   "outputs": [
    {
     "data": {
      "text/html": [
       "<div>\n",
       "<style scoped>\n",
       "    .dataframe tbody tr th:only-of-type {\n",
       "        vertical-align: middle;\n",
       "    }\n",
       "\n",
       "    .dataframe tbody tr th {\n",
       "        vertical-align: top;\n",
       "    }\n",
       "\n",
       "    .dataframe thead th {\n",
       "        text-align: right;\n",
       "    }\n",
       "</style>\n",
       "<table border=\"1\" class=\"dataframe\">\n",
       "  <thead>\n",
       "    <tr style=\"text-align: right;\">\n",
       "      <th></th>\n",
       "      <th>customer</th>\n",
       "      <th>item</th>\n",
       "      <th>date</th>\n",
       "      <th>order</th>\n",
       "    </tr>\n",
       "  </thead>\n",
       "  <tbody>\n",
       "    <tr>\n",
       "      <th>0</th>\n",
       "      <td>B</td>\n",
       "      <td>39</td>\n",
       "      <td>2018-1</td>\n",
       "      <td>369.20</td>\n",
       "    </tr>\n",
       "    <tr>\n",
       "      <th>1</th>\n",
       "      <td>B</td>\n",
       "      <td>57</td>\n",
       "      <td>2018-11</td>\n",
       "      <td>1252.80</td>\n",
       "    </tr>\n",
       "    <tr>\n",
       "      <th>2</th>\n",
       "      <td>B</td>\n",
       "      <td>11</td>\n",
       "      <td>2020-6</td>\n",
       "      <td>1036.00</td>\n",
       "    </tr>\n",
       "    <tr>\n",
       "      <th>3</th>\n",
       "      <td>A</td>\n",
       "      <td>53</td>\n",
       "      <td>2018-12</td>\n",
       "      <td>51.84</td>\n",
       "    </tr>\n",
       "    <tr>\n",
       "      <th>4</th>\n",
       "      <td>A</td>\n",
       "      <td>1</td>\n",
       "      <td>2019-2</td>\n",
       "      <td>72.00</td>\n",
       "    </tr>\n",
       "  </tbody>\n",
       "</table>\n",
       "</div>"
      ],
      "text/plain": [
       "  customer  item     date    order\n",
       "0        B    39   2018-1   369.20\n",
       "1        B    57  2018-11  1252.80\n",
       "2        B    11   2020-6  1036.00\n",
       "3        A    53  2018-12    51.84\n",
       "4        A     1   2019-2    72.00"
      ]
     },
     "execution_count": 653,
     "metadata": {},
     "output_type": "execute_result"
    }
   ],
   "source": [
    "df.head()"
   ]
  },
  {
   "cell_type": "code",
   "execution_count": 654,
   "metadata": {},
   "outputs": [],
   "source": [
    "df_new=pd.DataFrame(columns = ['customer', 'item', 'year_month', 'month', 'year',  'order'])"
   ]
  },
  {
   "cell_type": "code",
   "execution_count": 655,
   "metadata": {},
   "outputs": [],
   "source": [
    "grup=df.groupby([\"customer\",\"item\",\"date\"])"
   ]
  },
  {
   "cell_type": "code",
   "execution_count": 656,
   "metadata": {},
   "outputs": [],
   "source": [
    "for i in grup:\n",
    "    a,i=i\n",
    "    i[\"order\"]=i[\"order\"].sum()\n",
    "    df_new=df_new.append(i,ignore_index=False)\n",
    "    "
   ]
  },
  {
   "cell_type": "code",
   "execution_count": 657,
   "metadata": {},
   "outputs": [],
   "source": [
    "df_new=df_new.drop_duplicates()\n",
    "df_new=df_new.reset_index(drop=True)"
   ]
  },
  {
   "cell_type": "code",
   "execution_count": 658,
   "metadata": {},
   "outputs": [],
   "source": [
    "test['date'] = pd.to_datetime(test['date'])\n",
    "test['year'] = pd.DatetimeIndex(test['date']).year\n",
    "test['month'] = pd.DatetimeIndex(test['date']).month\n",
    "test=test.drop([\"date\"],axis=1)"
   ]
  },
  {
   "cell_type": "code",
   "execution_count": 659,
   "metadata": {},
   "outputs": [],
   "source": [
    "test1['date'] = pd.to_datetime(test1['date'])\n",
    "test1['year'] = pd.DatetimeIndex(test1['date']).year\n",
    "test1['month'] = pd.DatetimeIndex(test1['date']).month\n",
    "test1=test1.drop([\"date\"],axis=1)"
   ]
  },
  {
   "cell_type": "code",
   "execution_count": 660,
   "metadata": {},
   "outputs": [],
   "source": [
    "df_new['date'] = pd.to_datetime(df_new['date'])\n",
    "df_new['year'] = pd.DatetimeIndex(df_new['date']).year\n",
    "df_new['month'] = pd.DatetimeIndex(df_new['date']).month\n",
    "df_new=df_new.drop([\"date\"],axis=1)"
   ]
  },
  {
   "cell_type": "code",
   "execution_count": 661,
   "metadata": {},
   "outputs": [],
   "source": [
    "new_encoding=[]\n",
    "for i in range (0, len(test)):\n",
    "    if test[\"year\"][i]==2020:\n",
    "        x=24+test[\"month\"][i]\n",
    "        new_encoding.append(x)\n",
    "    if test[\"year\"][i]==2021:\n",
    "        x=36+test[\"month\"][i]\n",
    "        new_encoding.append(x)\n",
    "new_encoding=pd.DataFrame(new_encoding,columns=[\"year_month\"])\n",
    "test[\"year_month\"]=new_encoding[\"year_month\"]"
   ]
  },
  {
   "cell_type": "code",
   "execution_count": 662,
   "metadata": {},
   "outputs": [],
   "source": [
    "new_encoding=[]\n",
    "for i in range (0, len(test1)):\n",
    "    if test1[\"year\"][i]==2020:\n",
    "        x=24+test1[\"month\"][i]\n",
    "        new_encoding.append(x)\n",
    "    if test1[\"year\"][i]==2021:\n",
    "        x=36+test1[\"month\"][i]\n",
    "        new_encoding.append(x)\n",
    "new_encoding=pd.DataFrame(new_encoding,columns=[\"year_month\"])\n",
    "test1[\"year_month\"]=new_encoding[\"year_month\"]   "
   ]
  },
  {
   "cell_type": "code",
   "execution_count": 663,
   "metadata": {},
   "outputs": [],
   "source": [
    "new_encoding1 = []\n",
    "for i in range(0, len(df_new)): \n",
    "    if df_new['year'][i] == 2018:\n",
    "        x = 0 + df_new['month'][i]\n",
    "        new_encoding1.append(x)\n",
    "    if df_new['year'][i] == 2019:\n",
    "        x = 12 + df_new['month'][i]\n",
    "        new_encoding1.append(x)\n",
    "    if df_new['year'][i] == 2020:\n",
    "        x = 24 + df_new['month'][i]\n",
    "        new_encoding1.append(x)\n",
    "        \n",
    "new_encoding1=pd.DataFrame(new_encoding1,columns=[\"year_month\"])"
   ]
  },
  {
   "cell_type": "code",
   "execution_count": 664,
   "metadata": {},
   "outputs": [],
   "source": [
    "df_new[\"year_month\"]=new_encoding1[\"year_month\"]"
   ]
  },
  {
   "cell_type": "code",
   "execution_count": 665,
   "metadata": {},
   "outputs": [],
   "source": [
    "df_new=pd.get_dummies(df_new,columns=[\"customer\"],prefix=[\"customer\"])"
   ]
  },
  {
   "cell_type": "code",
   "execution_count": 666,
   "metadata": {},
   "outputs": [],
   "source": [
    "test1=pd.get_dummies(test1,columns=[\"customer\"],prefix=[\"customer\"])"
   ]
  },
  {
   "cell_type": "code",
   "execution_count": 667,
   "metadata": {},
   "outputs": [],
   "source": [
    "df_new=pd.get_dummies(df_new,columns=[\"item\"],prefix=[\"item\"])"
   ]
  },
  {
   "cell_type": "code",
   "execution_count": 668,
   "metadata": {},
   "outputs": [],
   "source": [
    "test1=pd.get_dummies(test1,columns=[\"item\"],prefix=[\"item\"])"
   ]
  },
  {
   "cell_type": "code",
   "execution_count": 669,
   "metadata": {},
   "outputs": [],
   "source": [
    "new_encoding=[]\n",
    "for i in range(0,len(df_new)):\n",
    "    if df_new[\"year\"][i]==2018:\n",
    "        new_encoding.append(0)\n",
    "    elif df_new[\"year\"][i]==2019:\n",
    "        new_encoding.append(1)\n",
    "    elif df_new[\"year\"][i]==2020:\n",
    "        new_encoding.append(2)\n",
    "new_encoding=pd.DataFrame(new_encoding,columns=[\"year\"])\n",
    "df_new[\"year\"]=new_encoding[\"year\"]"
   ]
  },
  {
   "cell_type": "code",
   "execution_count": 670,
   "metadata": {},
   "outputs": [],
   "source": [
    "new_encoding=[]\n",
    "for i in range(0,len(test1)):\n",
    "    if test1[\"year\"][i]==2020:\n",
    "        new_encoding.append(2)\n",
    "    elif test1[\"year\"][i]==2021:\n",
    "        new_encoding.append(3)\n",
    "new_encoding=pd.DataFrame(new_encoding,columns=[\"year\"])\n",
    "test1[\"year\"]=new_encoding[\"year\"]"
   ]
  },
  {
   "cell_type": "code",
   "execution_count": 671,
   "metadata": {},
   "outputs": [],
   "source": [
    "X=df_new.drop([\"order\"],axis=1)"
   ]
  },
  {
   "cell_type": "code",
   "execution_count": 672,
   "metadata": {},
   "outputs": [],
   "source": [
    "y=df_new[[\"order\"]]"
   ]
  },
  {
   "cell_type": "code",
   "execution_count": 673,
   "metadata": {},
   "outputs": [],
   "source": [
    "ridge_model=Ridge().fit(X,y)"
   ]
  },
  {
   "cell_type": "code",
   "execution_count": 674,
   "metadata": {},
   "outputs": [],
   "source": [
    "predict_y=ridge_model.predict(test1)"
   ]
  },
  {
   "cell_type": "code",
   "execution_count": 675,
   "metadata": {},
   "outputs": [],
   "source": [
    "predict_y=pd.DataFrame(predict_y,columns=[\"order\"])\n",
    "test[\"order\"]=predict_y[\"order\"]"
   ]
  },
  {
   "cell_type": "code",
   "execution_count": 676,
   "metadata": {},
   "outputs": [],
   "source": [
    "test.to_csv('PROJE.csv', columns=['id', 'order'], index=False)"
   ]
  }
 ],
 "metadata": {
  "kernelspec": {
   "display_name": "Python 3",
   "language": "python",
   "name": "python3"
  },
  "language_info": {
   "codemirror_mode": {
    "name": "ipython",
    "version": 3
   },
   "file_extension": ".py",
   "mimetype": "text/x-python",
   "name": "python",
   "nbconvert_exporter": "python",
   "pygments_lexer": "ipython3",
   "version": "3.8.5"
  }
 },
 "nbformat": 4,
 "nbformat_minor": 4
}
