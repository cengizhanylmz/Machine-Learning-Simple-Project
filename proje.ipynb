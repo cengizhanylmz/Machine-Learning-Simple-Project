{
 "cells": [
  {
   "cell_type": "code",
   "execution_count": 47,
   "metadata": {},
   "outputs": [],
   "source": [
    "import numpy as np\n",
    "import pandas as pd\n",
    "from sklearn.linear_model import Ridge\n",
    "from sklearn.metrics import mean_squared_error\n",
    "from sklearn import model_selection\n",
    "from sklearn.linear_model import RidgeCV\n",
    "from sklearn.model_selection import cross_val_score\n",
    "from sklearn.model_selection import train_test_split,GridSearchCV\n",
    "from sklearn.tree import DecisionTreeRegressor\n",
    "from sklearn.neighbors import KNeighborsRegressor\n",
    "from sklearn.ensemble import RandomForestRegressor\n",
    "from sklearn.ensemble import GradientBoostingRegressor\n",
    "from sklearn import neighbors\n",
    "from sklearn.svm import SVR\n",
    "from sklearn.linear_model import LinearRegression\n",
    "from warnings import filterwarnings\n",
    "filterwarnings(\"ignore\")"
   ]
  },
  {
   "cell_type": "code",
   "execution_count": 2,
   "metadata": {},
   "outputs": [],
   "source": [
    "veri=pd.read_excel(\"veri.xlsx\")\n",
    "df=veri.copy()\n",
    "test=pd.read_excel(\"id.xlsx\")\n",
    "test1= test.drop(['id'], axis=1)"
   ]
  },
  {
   "cell_type": "code",
   "execution_count": 3,
   "metadata": {},
   "outputs": [
    {
     "data": {
      "text/html": [
       "<div>\n",
       "<style scoped>\n",
       "    .dataframe tbody tr th:only-of-type {\n",
       "        vertical-align: middle;\n",
       "    }\n",
       "\n",
       "    .dataframe tbody tr th {\n",
       "        vertical-align: top;\n",
       "    }\n",
       "\n",
       "    .dataframe thead th {\n",
       "        text-align: right;\n",
       "    }\n",
       "</style>\n",
       "<table border=\"1\" class=\"dataframe\">\n",
       "  <thead>\n",
       "    <tr style=\"text-align: right;\">\n",
       "      <th></th>\n",
       "      <th>customer</th>\n",
       "      <th>item</th>\n",
       "      <th>date</th>\n",
       "    </tr>\n",
       "  </thead>\n",
       "  <tbody>\n",
       "    <tr>\n",
       "      <th>0</th>\n",
       "      <td>A</td>\n",
       "      <td>0</td>\n",
       "      <td>2020-10</td>\n",
       "    </tr>\n",
       "    <tr>\n",
       "      <th>1</th>\n",
       "      <td>A</td>\n",
       "      <td>0</td>\n",
       "      <td>2020-11</td>\n",
       "    </tr>\n",
       "    <tr>\n",
       "      <th>2</th>\n",
       "      <td>A</td>\n",
       "      <td>0</td>\n",
       "      <td>2020-12</td>\n",
       "    </tr>\n",
       "    <tr>\n",
       "      <th>3</th>\n",
       "      <td>A</td>\n",
       "      <td>0</td>\n",
       "      <td>2020-8</td>\n",
       "    </tr>\n",
       "    <tr>\n",
       "      <th>4</th>\n",
       "      <td>A</td>\n",
       "      <td>0</td>\n",
       "      <td>2020-9</td>\n",
       "    </tr>\n",
       "  </tbody>\n",
       "</table>\n",
       "</div>"
      ],
      "text/plain": [
       "  customer  item     date\n",
       "0        A     0  2020-10\n",
       "1        A     0  2020-11\n",
       "2        A     0  2020-12\n",
       "3        A     0   2020-8\n",
       "4        A     0   2020-9"
      ]
     },
     "execution_count": 3,
     "metadata": {},
     "output_type": "execute_result"
    }
   ],
   "source": [
    "test1.head()"
   ]
  },
  {
   "cell_type": "code",
   "execution_count": 4,
   "metadata": {},
   "outputs": [
    {
     "data": {
      "text/html": [
       "<div>\n",
       "<style scoped>\n",
       "    .dataframe tbody tr th:only-of-type {\n",
       "        vertical-align: middle;\n",
       "    }\n",
       "\n",
       "    .dataframe tbody tr th {\n",
       "        vertical-align: top;\n",
       "    }\n",
       "\n",
       "    .dataframe thead th {\n",
       "        text-align: right;\n",
       "    }\n",
       "</style>\n",
       "<table border=\"1\" class=\"dataframe\">\n",
       "  <thead>\n",
       "    <tr style=\"text-align: right;\">\n",
       "      <th></th>\n",
       "      <th>customer</th>\n",
       "      <th>item</th>\n",
       "      <th>date</th>\n",
       "      <th>order</th>\n",
       "    </tr>\n",
       "  </thead>\n",
       "  <tbody>\n",
       "    <tr>\n",
       "      <th>0</th>\n",
       "      <td>B</td>\n",
       "      <td>39</td>\n",
       "      <td>2018-1</td>\n",
       "      <td>369.20</td>\n",
       "    </tr>\n",
       "    <tr>\n",
       "      <th>1</th>\n",
       "      <td>B</td>\n",
       "      <td>57</td>\n",
       "      <td>2018-11</td>\n",
       "      <td>1252.80</td>\n",
       "    </tr>\n",
       "    <tr>\n",
       "      <th>2</th>\n",
       "      <td>B</td>\n",
       "      <td>11</td>\n",
       "      <td>2020-6</td>\n",
       "      <td>1036.00</td>\n",
       "    </tr>\n",
       "    <tr>\n",
       "      <th>3</th>\n",
       "      <td>A</td>\n",
       "      <td>53</td>\n",
       "      <td>2018-12</td>\n",
       "      <td>51.84</td>\n",
       "    </tr>\n",
       "    <tr>\n",
       "      <th>4</th>\n",
       "      <td>A</td>\n",
       "      <td>1</td>\n",
       "      <td>2019-2</td>\n",
       "      <td>72.00</td>\n",
       "    </tr>\n",
       "  </tbody>\n",
       "</table>\n",
       "</div>"
      ],
      "text/plain": [
       "  customer  item     date    order\n",
       "0        B    39   2018-1   369.20\n",
       "1        B    57  2018-11  1252.80\n",
       "2        B    11   2020-6  1036.00\n",
       "3        A    53  2018-12    51.84\n",
       "4        A     1   2019-2    72.00"
      ]
     },
     "execution_count": 4,
     "metadata": {},
     "output_type": "execute_result"
    }
   ],
   "source": [
    "df.head()"
   ]
  },
  {
   "cell_type": "code",
   "execution_count": 5,
   "metadata": {},
   "outputs": [
    {
     "data": {
      "text/plain": [
       "(12583, 4)"
      ]
     },
     "execution_count": 5,
     "metadata": {},
     "output_type": "execute_result"
    }
   ],
   "source": [
    "df.shape"
   ]
  },
  {
   "cell_type": "code",
   "execution_count": 6,
   "metadata": {},
   "outputs": [],
   "source": [
    "df_new=pd.DataFrame(columns = ['customer', 'item', 'year_month', 'month', 'year',  'order'])"
   ]
  },
  {
   "cell_type": "code",
   "execution_count": 7,
   "metadata": {},
   "outputs": [],
   "source": [
    "grup=df.groupby([\"customer\",\"item\",\"date\"])"
   ]
  },
  {
   "cell_type": "code",
   "execution_count": 8,
   "metadata": {},
   "outputs": [],
   "source": [
    "for i in grup:\n",
    "    a,i=i\n",
    "    i[\"order\"]=i[\"order\"].sum()\n",
    "    df_new=df_new.append(i,ignore_index=False)\n",
    "    "
   ]
  },
  {
   "cell_type": "code",
   "execution_count": 9,
   "metadata": {},
   "outputs": [],
   "source": [
    "df_new=df_new.drop_duplicates()\n",
    "df_new=df_new.reset_index(drop=True)"
   ]
  },
  {
   "cell_type": "code",
   "execution_count": 10,
   "metadata": {},
   "outputs": [],
   "source": [
    "test['date'] = pd.to_datetime(test['date'])\n",
    "test['year'] = pd.DatetimeIndex(test['date']).year\n",
    "test['month'] = pd.DatetimeIndex(test['date']).month\n",
    "test=test.drop([\"date\"],axis=1)"
   ]
  },
  {
   "cell_type": "code",
   "execution_count": 11,
   "metadata": {},
   "outputs": [],
   "source": [
    "test1['date'] = pd.to_datetime(test1['date'])\n",
    "test1['year'] = pd.DatetimeIndex(test1['date']).year\n",
    "test1['month'] = pd.DatetimeIndex(test1['date']).month\n",
    "test1=test1.drop([\"date\"],axis=1)"
   ]
  },
  {
   "cell_type": "code",
   "execution_count": 12,
   "metadata": {},
   "outputs": [],
   "source": [
    "df_new['date'] = pd.to_datetime(df_new['date'])\n",
    "df_new['year'] = pd.DatetimeIndex(df_new['date']).year\n",
    "df_new['month'] = pd.DatetimeIndex(df_new['date']).month\n",
    "df_new=df_new.drop([\"date\"],axis=1)"
   ]
  },
  {
   "cell_type": "code",
   "execution_count": 13,
   "metadata": {},
   "outputs": [
    {
     "data": {
      "text/plain": [
       "(2382, 6)"
      ]
     },
     "execution_count": 13,
     "metadata": {},
     "output_type": "execute_result"
    }
   ],
   "source": [
    "df_new.shape"
   ]
  },
  {
   "cell_type": "code",
   "execution_count": 14,
   "metadata": {},
   "outputs": [
    {
     "data": {
      "text/html": [
       "<div>\n",
       "<style scoped>\n",
       "    .dataframe tbody tr th:only-of-type {\n",
       "        vertical-align: middle;\n",
       "    }\n",
       "\n",
       "    .dataframe tbody tr th {\n",
       "        vertical-align: top;\n",
       "    }\n",
       "\n",
       "    .dataframe thead th {\n",
       "        text-align: right;\n",
       "    }\n",
       "</style>\n",
       "<table border=\"1\" class=\"dataframe\">\n",
       "  <thead>\n",
       "    <tr style=\"text-align: right;\">\n",
       "      <th></th>\n",
       "      <th>customer</th>\n",
       "      <th>item</th>\n",
       "      <th>year_month</th>\n",
       "      <th>month</th>\n",
       "      <th>year</th>\n",
       "      <th>order</th>\n",
       "    </tr>\n",
       "  </thead>\n",
       "  <tbody>\n",
       "    <tr>\n",
       "      <th>0</th>\n",
       "      <td>A</td>\n",
       "      <td>0</td>\n",
       "      <td>NaN</td>\n",
       "      <td>1</td>\n",
       "      <td>2018</td>\n",
       "      <td>216.0</td>\n",
       "    </tr>\n",
       "    <tr>\n",
       "      <th>1</th>\n",
       "      <td>A</td>\n",
       "      <td>0</td>\n",
       "      <td>NaN</td>\n",
       "      <td>10</td>\n",
       "      <td>2018</td>\n",
       "      <td>576.0</td>\n",
       "    </tr>\n",
       "    <tr>\n",
       "      <th>2</th>\n",
       "      <td>A</td>\n",
       "      <td>0</td>\n",
       "      <td>NaN</td>\n",
       "      <td>11</td>\n",
       "      <td>2018</td>\n",
       "      <td>144.0</td>\n",
       "    </tr>\n",
       "    <tr>\n",
       "      <th>3</th>\n",
       "      <td>A</td>\n",
       "      <td>0</td>\n",
       "      <td>NaN</td>\n",
       "      <td>12</td>\n",
       "      <td>2018</td>\n",
       "      <td>72.0</td>\n",
       "    </tr>\n",
       "    <tr>\n",
       "      <th>4</th>\n",
       "      <td>A</td>\n",
       "      <td>0</td>\n",
       "      <td>NaN</td>\n",
       "      <td>2</td>\n",
       "      <td>2018</td>\n",
       "      <td>576.0</td>\n",
       "    </tr>\n",
       "  </tbody>\n",
       "</table>\n",
       "</div>"
      ],
      "text/plain": [
       "  customer item year_month  month  year  order\n",
       "0        A    0        NaN      1  2018  216.0\n",
       "1        A    0        NaN     10  2018  576.0\n",
       "2        A    0        NaN     11  2018  144.0\n",
       "3        A    0        NaN     12  2018   72.0\n",
       "4        A    0        NaN      2  2018  576.0"
      ]
     },
     "execution_count": 14,
     "metadata": {},
     "output_type": "execute_result"
    }
   ],
   "source": [
    "df_new.head()"
   ]
  },
  {
   "cell_type": "code",
   "execution_count": 15,
   "metadata": {},
   "outputs": [],
   "source": [
    "new_encoding=[]\n",
    "for i in range (0, len(test)):\n",
    "    if test[\"year\"][i]==2020:\n",
    "        x=24+test[\"month\"][i]\n",
    "        new_encoding.append(x)\n",
    "    if test[\"year\"][i]==2021:\n",
    "        x=36+test[\"month\"][i]\n",
    "        new_encoding.append(x)\n",
    "new_encoding=pd.DataFrame(new_encoding,columns=[\"year_month\"])\n",
    "test[\"year_month\"]=new_encoding[\"year_month\"]"
   ]
  },
  {
   "cell_type": "code",
   "execution_count": 16,
   "metadata": {},
   "outputs": [],
   "source": [
    "new_encoding=[]\n",
    "for i in range (0, len(test1)):\n",
    "    if test1[\"year\"][i]==2020:\n",
    "        x=24+test1[\"month\"][i]\n",
    "        new_encoding.append(x)\n",
    "    if test1[\"year\"][i]==2021:\n",
    "        x=36+test1[\"month\"][i]\n",
    "        new_encoding.append(x)\n",
    "new_encoding=pd.DataFrame(new_encoding,columns=[\"year_month\"])\n",
    "test1[\"year_month\"]=new_encoding[\"year_month\"]   "
   ]
  },
  {
   "cell_type": "code",
   "execution_count": 17,
   "metadata": {},
   "outputs": [],
   "source": [
    "new_encoding1 = []\n",
    "for i in range(0, len(df_new)): \n",
    "    if df_new['year'][i] == 2018:\n",
    "        x = 0 + df_new['month'][i]\n",
    "        new_encoding1.append(x)\n",
    "    if df_new['year'][i] == 2019:\n",
    "        x = 12 + df_new['month'][i]\n",
    "        new_encoding1.append(x)\n",
    "    if df_new['year'][i] == 2020:\n",
    "        x = 24 + df_new['month'][i]\n",
    "        new_encoding1.append(x)\n",
    "        \n",
    "new_encoding1=pd.DataFrame(new_encoding1,columns=[\"year_month\"])"
   ]
  },
  {
   "cell_type": "code",
   "execution_count": 18,
   "metadata": {},
   "outputs": [],
   "source": [
    "df_new[\"year_month\"]=new_encoding1[\"year_month\"]"
   ]
  },
  {
   "cell_type": "code",
   "execution_count": 19,
   "metadata": {},
   "outputs": [],
   "source": [
    "df_new=pd.get_dummies(df_new,columns=[\"customer\"],prefix=[\"customer\"])"
   ]
  },
  {
   "cell_type": "code",
   "execution_count": 20,
   "metadata": {},
   "outputs": [],
   "source": [
    "test1=pd.get_dummies(test1,columns=[\"customer\"],prefix=[\"customer\"])"
   ]
  },
  {
   "cell_type": "code",
   "execution_count": 21,
   "metadata": {},
   "outputs": [],
   "source": [
    "df_new=pd.get_dummies(df_new,columns=[\"item\"],prefix=[\"item\"])"
   ]
  },
  {
   "cell_type": "code",
   "execution_count": 22,
   "metadata": {},
   "outputs": [],
   "source": [
    "test1=pd.get_dummies(test1,columns=[\"item\"],prefix=[\"item\"])"
   ]
  },
  {
   "cell_type": "code",
   "execution_count": 23,
   "metadata": {},
   "outputs": [],
   "source": [
    "new_encoding=[]\n",
    "for i in range(0,len(df_new)):\n",
    "    if df_new[\"year\"][i]==2018:\n",
    "        new_encoding.append(0)\n",
    "    elif df_new[\"year\"][i]==2019:\n",
    "        new_encoding.append(1)\n",
    "    elif df_new[\"year\"][i]==2020:\n",
    "        new_encoding.append(2)\n",
    "new_encoding=pd.DataFrame(new_encoding,columns=[\"year\"])\n",
    "df_new[\"year\"]=new_encoding[\"year\"]"
   ]
  },
  {
   "cell_type": "code",
   "execution_count": 24,
   "metadata": {},
   "outputs": [],
   "source": [
    "new_encoding=[]\n",
    "for i in range(0,len(test1)):\n",
    "    if test1[\"year\"][i]==2020:\n",
    "        new_encoding.append(2)\n",
    "    elif test1[\"year\"][i]==2021:\n",
    "        new_encoding.append(3)\n",
    "new_encoding=pd.DataFrame(new_encoding,columns=[\"year\"])\n",
    "test1[\"year\"]=new_encoding[\"year\"]"
   ]
  },
  {
   "cell_type": "code",
   "execution_count": 25,
   "metadata": {},
   "outputs": [
    {
     "data": {
      "text/html": [
       "<div>\n",
       "<style scoped>\n",
       "    .dataframe tbody tr th:only-of-type {\n",
       "        vertical-align: middle;\n",
       "    }\n",
       "\n",
       "    .dataframe tbody tr th {\n",
       "        vertical-align: top;\n",
       "    }\n",
       "\n",
       "    .dataframe thead th {\n",
       "        text-align: right;\n",
       "    }\n",
       "</style>\n",
       "<table border=\"1\" class=\"dataframe\">\n",
       "  <thead>\n",
       "    <tr style=\"text-align: right;\">\n",
       "      <th></th>\n",
       "      <th>year_month</th>\n",
       "      <th>month</th>\n",
       "      <th>year</th>\n",
       "      <th>order</th>\n",
       "      <th>customer_A</th>\n",
       "      <th>customer_B</th>\n",
       "      <th>customer_C</th>\n",
       "      <th>item_0</th>\n",
       "      <th>item_1</th>\n",
       "      <th>item_2</th>\n",
       "      <th>...</th>\n",
       "      <th>item_73</th>\n",
       "      <th>item_74</th>\n",
       "      <th>item_75</th>\n",
       "      <th>item_76</th>\n",
       "      <th>item_77</th>\n",
       "      <th>item_78</th>\n",
       "      <th>item_79</th>\n",
       "      <th>item_80</th>\n",
       "      <th>item_81</th>\n",
       "      <th>item_82</th>\n",
       "    </tr>\n",
       "  </thead>\n",
       "  <tbody>\n",
       "    <tr>\n",
       "      <th>0</th>\n",
       "      <td>1</td>\n",
       "      <td>1</td>\n",
       "      <td>0</td>\n",
       "      <td>216.0</td>\n",
       "      <td>1</td>\n",
       "      <td>0</td>\n",
       "      <td>0</td>\n",
       "      <td>1</td>\n",
       "      <td>0</td>\n",
       "      <td>0</td>\n",
       "      <td>...</td>\n",
       "      <td>0</td>\n",
       "      <td>0</td>\n",
       "      <td>0</td>\n",
       "      <td>0</td>\n",
       "      <td>0</td>\n",
       "      <td>0</td>\n",
       "      <td>0</td>\n",
       "      <td>0</td>\n",
       "      <td>0</td>\n",
       "      <td>0</td>\n",
       "    </tr>\n",
       "    <tr>\n",
       "      <th>1</th>\n",
       "      <td>10</td>\n",
       "      <td>10</td>\n",
       "      <td>0</td>\n",
       "      <td>576.0</td>\n",
       "      <td>1</td>\n",
       "      <td>0</td>\n",
       "      <td>0</td>\n",
       "      <td>1</td>\n",
       "      <td>0</td>\n",
       "      <td>0</td>\n",
       "      <td>...</td>\n",
       "      <td>0</td>\n",
       "      <td>0</td>\n",
       "      <td>0</td>\n",
       "      <td>0</td>\n",
       "      <td>0</td>\n",
       "      <td>0</td>\n",
       "      <td>0</td>\n",
       "      <td>0</td>\n",
       "      <td>0</td>\n",
       "      <td>0</td>\n",
       "    </tr>\n",
       "    <tr>\n",
       "      <th>2</th>\n",
       "      <td>11</td>\n",
       "      <td>11</td>\n",
       "      <td>0</td>\n",
       "      <td>144.0</td>\n",
       "      <td>1</td>\n",
       "      <td>0</td>\n",
       "      <td>0</td>\n",
       "      <td>1</td>\n",
       "      <td>0</td>\n",
       "      <td>0</td>\n",
       "      <td>...</td>\n",
       "      <td>0</td>\n",
       "      <td>0</td>\n",
       "      <td>0</td>\n",
       "      <td>0</td>\n",
       "      <td>0</td>\n",
       "      <td>0</td>\n",
       "      <td>0</td>\n",
       "      <td>0</td>\n",
       "      <td>0</td>\n",
       "      <td>0</td>\n",
       "    </tr>\n",
       "    <tr>\n",
       "      <th>3</th>\n",
       "      <td>12</td>\n",
       "      <td>12</td>\n",
       "      <td>0</td>\n",
       "      <td>72.0</td>\n",
       "      <td>1</td>\n",
       "      <td>0</td>\n",
       "      <td>0</td>\n",
       "      <td>1</td>\n",
       "      <td>0</td>\n",
       "      <td>0</td>\n",
       "      <td>...</td>\n",
       "      <td>0</td>\n",
       "      <td>0</td>\n",
       "      <td>0</td>\n",
       "      <td>0</td>\n",
       "      <td>0</td>\n",
       "      <td>0</td>\n",
       "      <td>0</td>\n",
       "      <td>0</td>\n",
       "      <td>0</td>\n",
       "      <td>0</td>\n",
       "    </tr>\n",
       "    <tr>\n",
       "      <th>4</th>\n",
       "      <td>2</td>\n",
       "      <td>2</td>\n",
       "      <td>0</td>\n",
       "      <td>576.0</td>\n",
       "      <td>1</td>\n",
       "      <td>0</td>\n",
       "      <td>0</td>\n",
       "      <td>1</td>\n",
       "      <td>0</td>\n",
       "      <td>0</td>\n",
       "      <td>...</td>\n",
       "      <td>0</td>\n",
       "      <td>0</td>\n",
       "      <td>0</td>\n",
       "      <td>0</td>\n",
       "      <td>0</td>\n",
       "      <td>0</td>\n",
       "      <td>0</td>\n",
       "      <td>0</td>\n",
       "      <td>0</td>\n",
       "      <td>0</td>\n",
       "    </tr>\n",
       "  </tbody>\n",
       "</table>\n",
       "<p>5 rows × 90 columns</p>\n",
       "</div>"
      ],
      "text/plain": [
       "   year_month  month  year  order  customer_A  customer_B  customer_C  item_0  \\\n",
       "0           1      1     0  216.0           1           0           0       1   \n",
       "1          10     10     0  576.0           1           0           0       1   \n",
       "2          11     11     0  144.0           1           0           0       1   \n",
       "3          12     12     0   72.0           1           0           0       1   \n",
       "4           2      2     0  576.0           1           0           0       1   \n",
       "\n",
       "   item_1  item_2  ...  item_73  item_74  item_75  item_76  item_77  item_78  \\\n",
       "0       0       0  ...        0        0        0        0        0        0   \n",
       "1       0       0  ...        0        0        0        0        0        0   \n",
       "2       0       0  ...        0        0        0        0        0        0   \n",
       "3       0       0  ...        0        0        0        0        0        0   \n",
       "4       0       0  ...        0        0        0        0        0        0   \n",
       "\n",
       "   item_79  item_80  item_81  item_82  \n",
       "0        0        0        0        0  \n",
       "1        0        0        0        0  \n",
       "2        0        0        0        0  \n",
       "3        0        0        0        0  \n",
       "4        0        0        0        0  \n",
       "\n",
       "[5 rows x 90 columns]"
      ]
     },
     "execution_count": 25,
     "metadata": {},
     "output_type": "execute_result"
    }
   ],
   "source": [
    "df_new.head()"
   ]
  },
  {
   "cell_type": "code",
   "execution_count": 26,
   "metadata": {},
   "outputs": [
    {
     "data": {
      "text/html": [
       "<div>\n",
       "<style scoped>\n",
       "    .dataframe tbody tr th:only-of-type {\n",
       "        vertical-align: middle;\n",
       "    }\n",
       "\n",
       "    .dataframe tbody tr th {\n",
       "        vertical-align: top;\n",
       "    }\n",
       "\n",
       "    .dataframe thead th {\n",
       "        text-align: right;\n",
       "    }\n",
       "</style>\n",
       "<table border=\"1\" class=\"dataframe\">\n",
       "  <thead>\n",
       "    <tr style=\"text-align: right;\">\n",
       "      <th></th>\n",
       "      <th>year</th>\n",
       "      <th>month</th>\n",
       "      <th>year_month</th>\n",
       "      <th>customer_A</th>\n",
       "      <th>customer_B</th>\n",
       "      <th>customer_C</th>\n",
       "      <th>item_0</th>\n",
       "      <th>item_1</th>\n",
       "      <th>item_2</th>\n",
       "      <th>item_3</th>\n",
       "      <th>...</th>\n",
       "      <th>item_73</th>\n",
       "      <th>item_74</th>\n",
       "      <th>item_75</th>\n",
       "      <th>item_76</th>\n",
       "      <th>item_77</th>\n",
       "      <th>item_78</th>\n",
       "      <th>item_79</th>\n",
       "      <th>item_80</th>\n",
       "      <th>item_81</th>\n",
       "      <th>item_82</th>\n",
       "    </tr>\n",
       "  </thead>\n",
       "  <tbody>\n",
       "    <tr>\n",
       "      <th>0</th>\n",
       "      <td>2</td>\n",
       "      <td>10</td>\n",
       "      <td>34</td>\n",
       "      <td>1</td>\n",
       "      <td>0</td>\n",
       "      <td>0</td>\n",
       "      <td>1</td>\n",
       "      <td>0</td>\n",
       "      <td>0</td>\n",
       "      <td>0</td>\n",
       "      <td>...</td>\n",
       "      <td>0</td>\n",
       "      <td>0</td>\n",
       "      <td>0</td>\n",
       "      <td>0</td>\n",
       "      <td>0</td>\n",
       "      <td>0</td>\n",
       "      <td>0</td>\n",
       "      <td>0</td>\n",
       "      <td>0</td>\n",
       "      <td>0</td>\n",
       "    </tr>\n",
       "    <tr>\n",
       "      <th>1</th>\n",
       "      <td>2</td>\n",
       "      <td>11</td>\n",
       "      <td>35</td>\n",
       "      <td>1</td>\n",
       "      <td>0</td>\n",
       "      <td>0</td>\n",
       "      <td>1</td>\n",
       "      <td>0</td>\n",
       "      <td>0</td>\n",
       "      <td>0</td>\n",
       "      <td>...</td>\n",
       "      <td>0</td>\n",
       "      <td>0</td>\n",
       "      <td>0</td>\n",
       "      <td>0</td>\n",
       "      <td>0</td>\n",
       "      <td>0</td>\n",
       "      <td>0</td>\n",
       "      <td>0</td>\n",
       "      <td>0</td>\n",
       "      <td>0</td>\n",
       "    </tr>\n",
       "    <tr>\n",
       "      <th>2</th>\n",
       "      <td>2</td>\n",
       "      <td>12</td>\n",
       "      <td>36</td>\n",
       "      <td>1</td>\n",
       "      <td>0</td>\n",
       "      <td>0</td>\n",
       "      <td>1</td>\n",
       "      <td>0</td>\n",
       "      <td>0</td>\n",
       "      <td>0</td>\n",
       "      <td>...</td>\n",
       "      <td>0</td>\n",
       "      <td>0</td>\n",
       "      <td>0</td>\n",
       "      <td>0</td>\n",
       "      <td>0</td>\n",
       "      <td>0</td>\n",
       "      <td>0</td>\n",
       "      <td>0</td>\n",
       "      <td>0</td>\n",
       "      <td>0</td>\n",
       "    </tr>\n",
       "    <tr>\n",
       "      <th>3</th>\n",
       "      <td>2</td>\n",
       "      <td>8</td>\n",
       "      <td>32</td>\n",
       "      <td>1</td>\n",
       "      <td>0</td>\n",
       "      <td>0</td>\n",
       "      <td>1</td>\n",
       "      <td>0</td>\n",
       "      <td>0</td>\n",
       "      <td>0</td>\n",
       "      <td>...</td>\n",
       "      <td>0</td>\n",
       "      <td>0</td>\n",
       "      <td>0</td>\n",
       "      <td>0</td>\n",
       "      <td>0</td>\n",
       "      <td>0</td>\n",
       "      <td>0</td>\n",
       "      <td>0</td>\n",
       "      <td>0</td>\n",
       "      <td>0</td>\n",
       "    </tr>\n",
       "    <tr>\n",
       "      <th>4</th>\n",
       "      <td>2</td>\n",
       "      <td>9</td>\n",
       "      <td>33</td>\n",
       "      <td>1</td>\n",
       "      <td>0</td>\n",
       "      <td>0</td>\n",
       "      <td>1</td>\n",
       "      <td>0</td>\n",
       "      <td>0</td>\n",
       "      <td>0</td>\n",
       "      <td>...</td>\n",
       "      <td>0</td>\n",
       "      <td>0</td>\n",
       "      <td>0</td>\n",
       "      <td>0</td>\n",
       "      <td>0</td>\n",
       "      <td>0</td>\n",
       "      <td>0</td>\n",
       "      <td>0</td>\n",
       "      <td>0</td>\n",
       "      <td>0</td>\n",
       "    </tr>\n",
       "  </tbody>\n",
       "</table>\n",
       "<p>5 rows × 89 columns</p>\n",
       "</div>"
      ],
      "text/plain": [
       "   year  month  year_month  customer_A  customer_B  customer_C  item_0  \\\n",
       "0     2     10          34           1           0           0       1   \n",
       "1     2     11          35           1           0           0       1   \n",
       "2     2     12          36           1           0           0       1   \n",
       "3     2      8          32           1           0           0       1   \n",
       "4     2      9          33           1           0           0       1   \n",
       "\n",
       "   item_1  item_2  item_3  ...  item_73  item_74  item_75  item_76  item_77  \\\n",
       "0       0       0       0  ...        0        0        0        0        0   \n",
       "1       0       0       0  ...        0        0        0        0        0   \n",
       "2       0       0       0  ...        0        0        0        0        0   \n",
       "3       0       0       0  ...        0        0        0        0        0   \n",
       "4       0       0       0  ...        0        0        0        0        0   \n",
       "\n",
       "   item_78  item_79  item_80  item_81  item_82  \n",
       "0        0        0        0        0        0  \n",
       "1        0        0        0        0        0  \n",
       "2        0        0        0        0        0  \n",
       "3        0        0        0        0        0  \n",
       "4        0        0        0        0        0  \n",
       "\n",
       "[5 rows x 89 columns]"
      ]
     },
     "execution_count": 26,
     "metadata": {},
     "output_type": "execute_result"
    }
   ],
   "source": [
    "test1.head()"
   ]
  },
  {
   "cell_type": "code",
   "execution_count": 25,
   "metadata": {
    "collapsed": true,
    "jupyter": {
     "outputs_hidden": true
    }
   },
   "outputs": [
    {
     "name": "stdout",
     "output_type": "stream",
     "text": [
      "<class 'pandas.core.frame.DataFrame'>\n",
      "RangeIndex: 498 entries, 0 to 497\n",
      "Data columns (total 7 columns):\n",
      " #   Column      Non-Null Count  Dtype\n",
      "---  ------      --------------  -----\n",
      " 0   item        498 non-null    int64\n",
      " 1   year        498 non-null    int64\n",
      " 2   month       498 non-null    int64\n",
      " 3   year_month  498 non-null    int64\n",
      " 4   customer_A  498 non-null    uint8\n",
      " 5   customer_B  498 non-null    uint8\n",
      " 6   customer_C  498 non-null    uint8\n",
      "dtypes: int64(4), uint8(3)\n",
      "memory usage: 17.1 KB\n"
     ]
    }
   ],
   "source": [
    "test1.info()"
   ]
  },
  {
   "cell_type": "code",
   "execution_count": 40,
   "metadata": {
    "collapsed": true,
    "jupyter": {
     "outputs_hidden": true
    }
   },
   "outputs": [
    {
     "name": "stdout",
     "output_type": "stream",
     "text": [
      "<class 'pandas.core.frame.DataFrame'>\n",
      "RangeIndex: 2382 entries, 0 to 2381\n",
      "Data columns (total 90 columns):\n",
      " #   Column      Non-Null Count  Dtype  \n",
      "---  ------      --------------  -----  \n",
      " 0   year_month  2382 non-null   int64  \n",
      " 1   month       2382 non-null   int64  \n",
      " 2   year        2382 non-null   int64  \n",
      " 3   order       2382 non-null   float64\n",
      " 4   customer_A  2382 non-null   uint8  \n",
      " 5   customer_B  2382 non-null   uint8  \n",
      " 6   customer_C  2382 non-null   uint8  \n",
      " 7   item_0      2382 non-null   uint8  \n",
      " 8   item_1      2382 non-null   uint8  \n",
      " 9   item_2      2382 non-null   uint8  \n",
      " 10  item_3      2382 non-null   uint8  \n",
      " 11  item_4      2382 non-null   uint8  \n",
      " 12  item_5      2382 non-null   uint8  \n",
      " 13  item_6      2382 non-null   uint8  \n",
      " 14  item_7      2382 non-null   uint8  \n",
      " 15  item_8      2382 non-null   uint8  \n",
      " 16  item_9      2382 non-null   uint8  \n",
      " 17  item_10     2382 non-null   uint8  \n",
      " 18  item_11     2382 non-null   uint8  \n",
      " 19  item_12     2382 non-null   uint8  \n",
      " 20  item_13     2382 non-null   uint8  \n",
      " 21  item_14     2382 non-null   uint8  \n",
      " 22  item_15     2382 non-null   uint8  \n",
      " 23  item_16     2382 non-null   uint8  \n",
      " 24  item_17     2382 non-null   uint8  \n",
      " 25  item_18     2382 non-null   uint8  \n",
      " 26  item_19     2382 non-null   uint8  \n",
      " 27  item_20     2382 non-null   uint8  \n",
      " 28  item_21     2382 non-null   uint8  \n",
      " 29  item_22     2382 non-null   uint8  \n",
      " 30  item_23     2382 non-null   uint8  \n",
      " 31  item_24     2382 non-null   uint8  \n",
      " 32  item_25     2382 non-null   uint8  \n",
      " 33  item_26     2382 non-null   uint8  \n",
      " 34  item_27     2382 non-null   uint8  \n",
      " 35  item_28     2382 non-null   uint8  \n",
      " 36  item_29     2382 non-null   uint8  \n",
      " 37  item_30     2382 non-null   uint8  \n",
      " 38  item_31     2382 non-null   uint8  \n",
      " 39  item_32     2382 non-null   uint8  \n",
      " 40  item_33     2382 non-null   uint8  \n",
      " 41  item_34     2382 non-null   uint8  \n",
      " 42  item_35     2382 non-null   uint8  \n",
      " 43  item_36     2382 non-null   uint8  \n",
      " 44  item_37     2382 non-null   uint8  \n",
      " 45  item_38     2382 non-null   uint8  \n",
      " 46  item_39     2382 non-null   uint8  \n",
      " 47  item_40     2382 non-null   uint8  \n",
      " 48  item_41     2382 non-null   uint8  \n",
      " 49  item_42     2382 non-null   uint8  \n",
      " 50  item_43     2382 non-null   uint8  \n",
      " 51  item_44     2382 non-null   uint8  \n",
      " 52  item_45     2382 non-null   uint8  \n",
      " 53  item_46     2382 non-null   uint8  \n",
      " 54  item_47     2382 non-null   uint8  \n",
      " 55  item_48     2382 non-null   uint8  \n",
      " 56  item_49     2382 non-null   uint8  \n",
      " 57  item_50     2382 non-null   uint8  \n",
      " 58  item_51     2382 non-null   uint8  \n",
      " 59  item_52     2382 non-null   uint8  \n",
      " 60  item_53     2382 non-null   uint8  \n",
      " 61  item_54     2382 non-null   uint8  \n",
      " 62  item_55     2382 non-null   uint8  \n",
      " 63  item_56     2382 non-null   uint8  \n",
      " 64  item_57     2382 non-null   uint8  \n",
      " 65  item_58     2382 non-null   uint8  \n",
      " 66  item_59     2382 non-null   uint8  \n",
      " 67  item_60     2382 non-null   uint8  \n",
      " 68  item_61     2382 non-null   uint8  \n",
      " 69  item_62     2382 non-null   uint8  \n",
      " 70  item_63     2382 non-null   uint8  \n",
      " 71  item_64     2382 non-null   uint8  \n",
      " 72  item_65     2382 non-null   uint8  \n",
      " 73  item_66     2382 non-null   uint8  \n",
      " 74  item_67     2382 non-null   uint8  \n",
      " 75  item_68     2382 non-null   uint8  \n",
      " 76  item_69     2382 non-null   uint8  \n",
      " 77  item_70     2382 non-null   uint8  \n",
      " 78  item_71     2382 non-null   uint8  \n",
      " 79  item_72     2382 non-null   uint8  \n",
      " 80  item_73     2382 non-null   uint8  \n",
      " 81  item_74     2382 non-null   uint8  \n",
      " 82  item_75     2382 non-null   uint8  \n",
      " 83  item_76     2382 non-null   uint8  \n",
      " 84  item_77     2382 non-null   uint8  \n",
      " 85  item_78     2382 non-null   uint8  \n",
      " 86  item_79     2382 non-null   uint8  \n",
      " 87  item_80     2382 non-null   uint8  \n",
      " 88  item_81     2382 non-null   uint8  \n",
      " 89  item_82     2382 non-null   uint8  \n",
      "dtypes: float64(1), int64(3), uint8(86)\n",
      "memory usage: 274.6 KB\n"
     ]
    }
   ],
   "source": [
    "df_new.info()"
   ]
  },
  {
   "cell_type": "code",
   "execution_count": 31,
   "metadata": {},
   "outputs": [],
   "source": [
    "#UYGUN MODEL BELİRLEME"
   ]
  },
  {
   "cell_type": "code",
   "execution_count": 92,
   "metadata": {},
   "outputs": [],
   "source": [
    "def RMSE(df,order,mdl):\n",
    "    X=df.drop([\"order\"],axis=1)\n",
    "    y=df[[order]]\n",
    "    X_train,X_test,y_train,y_test=train_test_split(X,y,test_size=0.25,random_state=42)\n",
    "    #modelleme\n",
    "    \n",
    "    model=mdl().fit(X_train,y_train)\n",
    "    predict_y=model.predict(X_test)\n",
    "    RMSE_deger=np.sqrt(mean_squared_error(y_test,predict_y))\n",
    "    model_ismi=mdl.__name__\n",
    "    print(model_ismi,\":\",\"RMSE=\",RMSE_deger)\n",
    "    "
   ]
  },
  {
   "cell_type": "code",
   "execution_count": 94,
   "metadata": {},
   "outputs": [],
   "source": [
    "models=[GradientBoostingRegressor,\n",
    "       RandomForestRegressor,\n",
    "       DecisionTreeRegressor,\n",
    "       KNeighborsRegressor,\n",
    "       SVR,\n",
    "       Ridge,\n",
    "       LinearRegression,]"
   ]
  },
  {
   "cell_type": "code",
   "execution_count": 95,
   "metadata": {},
   "outputs": [
    {
     "name": "stdout",
     "output_type": "stream",
     "text": [
      "GradientBoostingRegressor : RMSE= 1499.017279367573\n",
      "RandomForestRegressor : RMSE= 1618.6200703699944\n",
      "DecisionTreeRegressor : RMSE= 1957.9511132546954\n",
      "KNeighborsRegressor : RMSE= 2305.022454003029\n",
      "SVR : RMSE= 2313.4030728134517\n",
      "Ridge : RMSE= 1539.4223466381302\n",
      "LinearRegression : RMSE= 1539.2462251044408\n"
     ]
    }
   ],
   "source": [
    "for i in models:\n",
    "    RMSE(df_new,\"order\",i)"
   ]
  },
  {
   "cell_type": "code",
   "execution_count": 56,
   "metadata": {},
   "outputs": [],
   "source": [
    "X=df_new.drop([\"order\"],axis=1)\n",
    "y=df_new[[\"order\"]]\n",
    "X_train,X_test,y_train,y_test=train_test_split(X,y,test_size=0.25,random_state=42)"
   ]
  },
  {
   "cell_type": "code",
   "execution_count": 79,
   "metadata": {},
   "outputs": [],
   "source": [
    "GB_params={\"learning_rate\":[0.01,0.1,0.5,0.8],\n",
    "          \"max_depth\":[3,5,8,10],\n",
    "          \"n_estimators\":[100,200,400,600],\n",
    "          \"subsample\":[1,0.5,0.8],\n",
    "          \"loss\":[\"ls\",\"lad\",\"quantile\"]}"
   ]
  },
  {
   "cell_type": "code",
   "execution_count": 80,
   "metadata": {
    "collapsed": true,
    "jupyter": {
     "outputs_hidden": true
    }
   },
   "outputs": [
    {
     "name": "stdout",
     "output_type": "stream",
     "text": [
      "Fitting 5 folds for each of 576 candidates, totalling 2880 fits\n"
     ]
    },
    {
     "name": "stderr",
     "output_type": "stream",
     "text": [
      "[Parallel(n_jobs=-1)]: Using backend LokyBackend with 8 concurrent workers.\n",
      "[Parallel(n_jobs=-1)]: Done  25 tasks      | elapsed:    4.5s\n",
      "[Parallel(n_jobs=-1)]: Done 146 tasks      | elapsed:   27.0s\n",
      "[Parallel(n_jobs=-1)]: Done 349 tasks      | elapsed:  1.4min\n",
      "[Parallel(n_jobs=-1)]: Done 632 tasks      | elapsed:  3.5min\n",
      "[Parallel(n_jobs=-1)]: Done 997 tasks      | elapsed:  5.8min\n",
      "[Parallel(n_jobs=-1)]: Done 1442 tasks      | elapsed:  9.4min\n",
      "[Parallel(n_jobs=-1)]: Done 1969 tasks      | elapsed: 12.4min\n",
      "[Parallel(n_jobs=-1)]: Done 2576 tasks      | elapsed: 16.2min\n",
      "[Parallel(n_jobs=-1)]: Done 2880 out of 2880 | elapsed: 18.7min finished\n"
     ]
    }
   ],
   "source": [
    "GB_cv_models=GridSearchCV(GB_model,\n",
    "                          GB_params,\n",
    "                          cv=5,\n",
    "                          verbose=2,n_jobs=-1).fit(X_train,y_train)"
   ]
  },
  {
   "cell_type": "code",
   "execution_count": 81,
   "metadata": {},
   "outputs": [
    {
     "data": {
      "text/plain": [
       "{'learning_rate': 0.1,\n",
       " 'loss': 'lad',\n",
       " 'max_depth': 8,\n",
       " 'n_estimators': 200,\n",
       " 'subsample': 0.5}"
      ]
     },
     "execution_count": 81,
     "metadata": {},
     "output_type": "execute_result"
    }
   ],
   "source": [
    "GB_cv_models.best_params_"
   ]
  },
  {
   "cell_type": "code",
   "execution_count": 135,
   "metadata": {},
   "outputs": [],
   "source": [
    "GB=GradientBoostingRegressor(learning_rate=0.1,loss=\"lad\",max_depth=8,n_estimators=200,subsample=0.5).fit(X,y)"
   ]
  },
  {
   "cell_type": "code",
   "execution_count": 85,
   "metadata": {},
   "outputs": [],
   "source": [
    "#MODEL TUNING TEST HATASI"
   ]
  },
  {
   "cell_type": "code",
   "execution_count": 162,
   "metadata": {},
   "outputs": [],
   "source": [
    "y_pred=GB.predict(X_test) #test için ayrılan verinin tahmini"
   ]
  },
  {
   "cell_type": "code",
   "execution_count": 163,
   "metadata": {},
   "outputs": [
    {
     "data": {
      "text/plain": [
       "1153.0525991256034"
      ]
     },
     "execution_count": 163,
     "metadata": {},
     "output_type": "execute_result"
    }
   ],
   "source": [
    "RMSE_deger=np.sqrt(mean_squared_error(y_test,y_pred))\n",
    "RMSE_deger "
   ]
  },
  {
   "cell_type": "code",
   "execution_count": 84,
   "metadata": {},
   "outputs": [],
   "source": [
    "predict_y=GB_model.predict(test1) #istenilen 6 aylık veri için tahmin"
   ]
  },
  {
   "cell_type": "code",
   "execution_count": 87,
   "metadata": {},
   "outputs": [],
   "source": [
    "predict_y=pd.DataFrame(predict_y,columns=[\"order\"])\n",
    "test[\"order\"]=predict_y[\"order\"]"
   ]
  },
  {
   "cell_type": "code",
   "execution_count": 88,
   "metadata": {},
   "outputs": [],
   "source": [
    "test.to_csv('6_aylik_tahmin.csv', columns=['id', 'order'], index=False)"
   ]
  }
 ],
 "metadata": {
  "kernelspec": {
   "display_name": "Python 3",
   "language": "python",
   "name": "python3"
  },
  "language_info": {
   "codemirror_mode": {
    "name": "ipython",
    "version": 3
   },
   "file_extension": ".py",
   "mimetype": "text/x-python",
   "name": "python",
   "nbconvert_exporter": "python",
   "pygments_lexer": "ipython3",
   "version": "3.8.5"
  }
 },
 "nbformat": 4,
 "nbformat_minor": 4
}
